{
 "cells": [
  {
   "cell_type": "code",
   "execution_count": 1,
   "metadata": {},
   "outputs": [],
   "source": [
    "from Feature_Extraction import *\n",
    "from threading import Thread\n",
    "import concurrent.futures as conc\n",
    "import cv2\n",
    "import os\n",
    "import math\n",
    "import dlib\n",
    "import pandas as pd\n",
    "import matplotlib.pyplot as plt"
   ]
  },
  {
   "cell_type": "code",
   "execution_count": 2,
   "metadata": {},
   "outputs": [],
   "source": [
    "train_real_frame_folders = [\n",
    "    '../../../archive/original_sequences/youtube/c23/videos/',\n",
    "]\n",
    "\n",
    "train_fake_frame_folders = [\n",
    "    '../../../archive/manipulated_sequences/Deepfakes/c23/videos/',\n",
    "    '../../../archive/manipulated_sequences/Face2Face/c23/videos/',\n",
    "    '../../../archive/manipulated_sequences/FaceSwap/c23/videos/',\n",
    "    '../../../archive/manipulated_sequences/NeuralTextures/c23/videos/',\n",
    "]"
   ]
  },
  {
   "cell_type": "code",
   "execution_count": 3,
   "metadata": {},
   "outputs": [],
   "source": [
    "real_videos_paths = []\n",
    "fake_videos_paths = []\n",
    "real_azi_vectors = []\n",
    "fake_azi_vectors = []\n",
    "reduced_dim_real_vectors = []\n",
    "reduced_dim_fake_vectors = []"
   ]
  },
  {
   "cell_type": "code",
   "execution_count": 4,
   "metadata": {},
   "outputs": [],
   "source": [
    "# load the real videos paths into paths list\n",
    "for train_frame_folder in train_real_frame_folders:\n",
    "    list_of_train_data = [os.path.join(train_frame_folder, f) for f in os.listdir(\n",
    "        train_frame_folder) if f.endswith('.mp4')]\n",
    "    real_videos_paths += list_of_train_data\n",
    "\n",
    "# load the fake videos paths into paths list\n",
    "for train_frame_folder in train_fake_frame_folders:\n",
    "    list_of_train_data = [os.path.join(train_frame_folder, f) for f in os.listdir(\n",
    "        train_frame_folder) if f.endswith('.mp4')]\n",
    "    fake_videos_paths.append(list_of_train_data )"
   ]
  },
  {
   "attachments": {},
   "cell_type": "markdown",
   "metadata": {},
   "source": [
    "### Real videos features extraction"
   ]
  },
  {
   "cell_type": "code",
   "execution_count": 5,
   "metadata": {},
   "outputs": [
    {
     "name": "stdout",
     "output_type": "stream",
     "text": [
      "Video 0\n",
      "Video 1\n",
      "Video 2\n",
      "Video 3\n",
      "Video 3 ---- Done\n",
      "Video 0 ---- Done\n",
      "Video 1 ---- Done\n",
      "Video 2 ---- Done\n"
     ]
    }
   ],
   "source": [
    "# make a worker pool with max threadings 10\n",
    "pool = conc.ThreadPoolExecutor(max_workers=10)\n",
    "\n",
    "for i, video_path in enumerate(real_videos_paths):\n",
    "    # Video capturing constructor\n",
    "    cap = cv2.VideoCapture(video_path)\n",
    "\n",
    "    # starting the thread\n",
    "    pool.submit(video_feature_extraction, cap, real_azi_vectors, i)\n",
    "\n",
    "    if (i + 1) % 10 == 0:\n",
    "        pool.shutdown(wait=True)"
   ]
  },
  {
   "cell_type": "code",
   "execution_count": 13,
   "metadata": {},
   "outputs": [],
   "source": [
    "# Extract the features into csv file\n",
    "real_videos_features_df = pd.DataFrame(data = real_azi_vectors)\n",
    "real_videos_features_df['Label'] = 0\n",
    "real_videos_features_df.to_csv('real_videos_features_vector.csv')"
   ]
  },
  {
   "attachments": {},
   "cell_type": "markdown",
   "metadata": {},
   "source": [
    "### Fake videos features extraction"
   ]
  },
  {
   "cell_type": "code",
   "execution_count": null,
   "metadata": {},
   "outputs": [],
   "source": [
    "# make a worker pool with max threadings 10\n",
    "pool = conc.ThreadPoolExecutor(max_workers=10)\n",
    "\n",
    "for i, dir in enumerate(fake_videos_paths):\n",
    "    # empty the list before extraction\n",
    "    fake_azi_vectors = []\n",
    "    for j, video_path in enumerate(dir):\n",
    "        # Video capturing constructor\n",
    "        cap = cv2.VideoCapture(video_path)\n",
    "\n",
    "        # starting the thread\n",
    "        pool.submit(video_feature_extraction, cap, fake_azi_vectors, j)\n",
    "\n",
    "        if (i + 1) % 10 == 0:\n",
    "            pool.shutdown(wait=True)\n",
    "    \n",
    "    # extract the csv file for the current fake dir\n",
    "    fake_videos_features_df = pd.DataFrame(data = fake_azi_vectors)\n",
    "    fake_videos_features_df['Label'] = 0\n",
    "    fake_videos_features_df.to_csv('fake_videos_features_vector_{}.csv'.format(i))"
   ]
  }
 ],
 "metadata": {
  "kernelspec": {
   "display_name": "Python 3",
   "language": "python",
   "name": "python3"
  },
  "language_info": {
   "codemirror_mode": {
    "name": "ipython",
    "version": 3
   },
   "file_extension": ".py",
   "mimetype": "text/x-python",
   "name": "python",
   "nbconvert_exporter": "python",
   "pygments_lexer": "ipython3",
   "version": "3.11.3"
  },
  "orig_nbformat": 4
 },
 "nbformat": 4,
 "nbformat_minor": 2
}
