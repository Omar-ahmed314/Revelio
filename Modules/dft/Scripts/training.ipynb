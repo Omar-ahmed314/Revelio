{
 "cells": [
  {
   "cell_type": "code",
   "execution_count": 1,
   "metadata": {},
   "outputs": [],
   "source": [
    "import pandas as pd\n",
    "import matplotlib.pyplot as plt"
   ]
  },
  {
   "cell_type": "code",
   "execution_count": 2,
   "metadata": {},
   "outputs": [],
   "source": [
    "# loading the dataset for training models\n",
    "original_dataset_df = pd.read_csv('../Features Data/real_videos_features_vector.csv', index_col=None)\n",
    "fake_dataset_1_df = pd.read_csv('../Features Data/fake_videos_features_vector_0.csv', index_col=None)\n",
    "fake_dataset_2_df = pd.read_csv('../Features Data/fake_videos_features_vector_1.csv', index_col=None)\n",
    "fake_dataset_3_df = pd.read_csv('../Features Data/fake_videos_features_vector_2.csv', index_col=None)\n",
    "fake_dataset_4_df = pd.read_csv('../Features Data/fake_videos_features_vector_3.csv', index_col=None)"
   ]
  },
  {
   "cell_type": "code",
   "execution_count": 3,
   "metadata": {},
   "outputs": [],
   "source": [
    "# preprocessing\n",
    "original_dataset_df.drop('Unnamed: 0', inplace=True, axis=1)\n",
    "fake_dataset_1_df.drop('Unnamed: 0', inplace=True, axis=1)\n",
    "fake_dataset_2_df.drop('Unnamed: 0', inplace=True, axis=1)\n",
    "fake_dataset_3_df.drop('Unnamed: 0', inplace=True, axis=1)\n",
    "fake_dataset_4_df.drop('Unnamed: 0', inplace=True, axis=1)\n",
    "fake_dataset_1_df['Label'] = 1\n",
    "fake_dataset_2_df['Label'] = 1\n",
    "fake_dataset_3_df['Label'] = 1\n",
    "fake_dataset_4_df['Label'] = 1"
   ]
  },
  {
   "attachments": {},
   "cell_type": "markdown",
   "metadata": {},
   "source": [
    "### Creating Models"
   ]
  },
  {
   "cell_type": "code",
   "execution_count": 4,
   "metadata": {},
   "outputs": [],
   "source": [
    "from sklearn import svm\n",
    "from sklearn.model_selection import GridSearchCV\n",
    "from sklearn.model_selection import train_test_split"
   ]
  },
  {
   "cell_type": "code",
   "execution_count": 5,
   "metadata": {},
   "outputs": [],
   "source": [
    "model_1 = pd.concat([original_dataset_df, fake_dataset_1_df]).reset_index(drop=True)\n",
    "model_2 = pd.concat([original_dataset_df, fake_dataset_2_df]).reset_index(drop=True)\n",
    "model_3 = pd.concat([original_dataset_df, fake_dataset_3_df]).reset_index(drop=True)\n",
    "model_4 = pd.concat([original_dataset_df, fake_dataset_4_df]).reset_index(drop=True)"
   ]
  },
  {
   "cell_type": "code",
   "execution_count": 6,
   "metadata": {},
   "outputs": [],
   "source": [
    "# split training data\n",
    "x_train, x_test, y_train, y_test = train_test_split(model_1.drop(['Label'], axis=1), model_1['Label'], test_size=0.2, random_state=42)"
   ]
  },
  {
   "cell_type": "code",
   "execution_count": null,
   "metadata": {},
   "outputs": [],
   "source": [
    "svm_model = svm.SVC(kernel='rbf')\n",
    "model = svm_model.fit(x_train, y_train)"
   ]
  },
  {
   "cell_type": "code",
   "execution_count": null,
   "metadata": {},
   "outputs": [],
   "source": [
    "y_predicted = model.predict(x_test)"
   ]
  },
  {
   "cell_type": "code",
   "execution_count": null,
   "metadata": {},
   "outputs": [],
   "source": [
    "from sklearn.metrics import accuracy_score"
   ]
  },
  {
   "cell_type": "code",
   "execution_count": null,
   "metadata": {},
   "outputs": [],
   "source": [
    "print(accuracy_score(list(y_test), y_predicted))"
   ]
  },
  {
   "cell_type": "code",
   "execution_count": null,
   "metadata": {},
   "outputs": [],
   "source": [
    "# split training data\n",
    "x_train, x_test, y_train, y_test = train_test_split(model_2.drop(['Label'], axis=1), model_2['Label'], test_size=0.2, random_state=42)"
   ]
  },
  {
   "cell_type": "code",
   "execution_count": null,
   "metadata": {},
   "outputs": [],
   "source": [
    "svm_model = svm.SVC(kernel='rbf')\n",
    "model = svm_model.fit(x_train, y_train)"
   ]
  },
  {
   "cell_type": "code",
   "execution_count": null,
   "metadata": {},
   "outputs": [],
   "source": [
    "y_predicted = model.predict(x_test)"
   ]
  },
  {
   "cell_type": "code",
   "execution_count": null,
   "metadata": {},
   "outputs": [],
   "source": [
    "print(accuracy_score(list(y_test), y_predicted))"
   ]
  },
  {
   "cell_type": "code",
   "execution_count": null,
   "metadata": {},
   "outputs": [],
   "source": [
    "# split training data\n",
    "x_train, x_test, y_train, y_test = train_test_split(model_3.drop(['Label'], axis=1), model_3['Label'], test_size=0.2, random_state=42)"
   ]
  },
  {
   "cell_type": "code",
   "execution_count": null,
   "metadata": {},
   "outputs": [],
   "source": [
    "svm_model = svm.SVC(kernel='rbf')\n",
    "model = svm_model.fit(x_train, y_train)"
   ]
  },
  {
   "cell_type": "code",
   "execution_count": null,
   "metadata": {},
   "outputs": [],
   "source": [
    "y_predicted = model.predict(x_test)"
   ]
  },
  {
   "cell_type": "code",
   "execution_count": null,
   "metadata": {},
   "outputs": [],
   "source": [
    "print(accuracy_score(list(y_test), y_predicted))"
   ]
  },
  {
   "cell_type": "code",
   "execution_count": null,
   "metadata": {},
   "outputs": [],
   "source": [
    "# split training data\n",
    "x_train, x_test, y_train, y_test = train_test_split(model_4.drop(['Label'], axis=1), model_4['Label'], test_size=0.2, random_state=42)"
   ]
  },
  {
   "cell_type": "code",
   "execution_count": null,
   "metadata": {},
   "outputs": [],
   "source": [
    "svm_model = svm.SVC(kernel='rbf')\n",
    "model = svm_model.fit(x_train, y_train)"
   ]
  },
  {
   "cell_type": "code",
   "execution_count": null,
   "metadata": {},
   "outputs": [],
   "source": [
    "y_predicted = model.predict(x_test)"
   ]
  },
  {
   "cell_type": "code",
   "execution_count": null,
   "metadata": {},
   "outputs": [],
   "source": [
    "print(accuracy_score(list(y_test), y_predicted))"
   ]
  }
 ],
 "metadata": {
  "kernelspec": {
   "display_name": "Python 3",
   "language": "python",
   "name": "python3"
  },
  "language_info": {
   "codemirror_mode": {
    "name": "ipython",
    "version": 3
   },
   "file_extension": ".py",
   "mimetype": "text/x-python",
   "name": "python",
   "nbconvert_exporter": "python",
   "pygments_lexer": "ipython3",
   "version": "3.11.3"
  },
  "orig_nbformat": 4
 },
 "nbformat": 4,
 "nbformat_minor": 2
}
